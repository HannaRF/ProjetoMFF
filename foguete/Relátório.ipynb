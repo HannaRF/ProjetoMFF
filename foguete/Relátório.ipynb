{
 "cells": [
  {
   "cell_type": "markdown",
   "metadata": {},
   "source": [
    "# Projeto de Modelagem de Fenômenos Físicos : Foguete\n",
    "### Igor Cortes Junqueira e Hanna Rodrigues Ferreira"
   ]
  },
  {
   "cell_type": "markdown",
   "metadata": {},
   "source": [
    "#### Variáveis:\n",
    "* **m** : Massa total do foguete com combustível em quilogramas (configurável)\n",
    "* **dm** : Consumo do propulsor, medido em quilogramas de combustível por segundo (configurável)\n",
    "* **vj** : Velocidade de ejeção do propulsor em metros por segundo (configurável)\n",
    "* **oldt** : tempo no instante imediatamente anterior em segundos\n",
    "* **v** : velocidade do foguete em metros por segundo\n",
    "* **d** : distância entre o foguete e o raio da Terra utilizada no cálculo da atração gravitacional em metros\n",
    "* **GM** : Constante dada pelo produto massa da terra e a constante gravitacional\n",
    "* **F** : força resultande no foguete em Newtons\n",
    "* **dt** : variação do tempo entre o oldt e o tempo atual em segundos\n",
    "* **h** : altitude em relação ao solo em metros\n",
    "* **mc** : Massa de controle do foguete, ou seja, massa sem combustível, em quilogramas (configurável)\n",
    "* **empuxo** : empuxo do propulsor do foguete em Newtons\n",
    "* **res** : força de resistência do ar em Newtons\n",
    "* **den** : Densidade da atmosfera medida em atmosferas (configurável)\n",
    "* **apogeu** : Máximo da trajetória,altitude máxima em metros\n",
    "* **imagens r1,r2, r3, r4, r, boom** : utilizadas na draw de modo dinâmico,animado ; e **imagem plat** no backgroud da draw\n",
    "* **camada** : string para mensuração ilustrativa na simulação da distância do foguete a superfície terrestre"
   ]
  },
  {
   "cell_type": "code",
   "execution_count": null,
   "metadata": {},
   "outputs": [],
   "source": [
    "double m, dm, vj, oldt, v, d, GM, F, dt, h, mc, empuxo, res, den, apogeu;\n",
    "PImage plat, r1, r2, r3, r4, r, boom;\n",
    "String camada;\n",
    "\n",
    "void setup(){\n",
    "  //Itens configuráveis da simulação\n",
    "  den = 1; //Densidade da atmosfera medida em atm\n",
    "  mc = 100000; //Massa de controle do foguete, ou seja, massa sem combustível, em kg\n",
    "  m = 300000; //Massa total do foguete com combustível em kg\n",
    "  dm = -400; //Consumo do propulsor, medido em kg de combustível por segundo\n",
    "  vj = -10000; //Velocidade de ejeção do propulsor em m/s"
   ]
  },
  {
   "cell_type": "code",
   "execution_count": null,
   "metadata": {},
   "outputs": [],
   "source": [
    "   //Demais partes da configuração\n",
    "  size(800,800); //Configuração da tela\n",
    "  oldt = millis()/1000F; //Armazenamento do tempo de inicio da execussão\n",
    "  v = 0; //Setando velocidade inicial nula\n",
    "  d = 6371000; //Setando distância como raio da terra em metros (usado para calcular atração gravitacional)\n",
    "  GM = -398576060000000L; //Constante dada pelo produto massa da terra e a constante gravitacional\n",
    "  apogeu = 0; //Setando ponto máximo da trajetória inicialmente nulo"
   ]
  },
  {
   "cell_type": "code",
   "execution_count": null,
   "metadata": {},
   "outputs": [],
   "source": [
    "  //Carregamento de imagens para a simulação\n",
    "  plat=loadImage(\"grama.png\"); boom=loadImage(\"boom.png\");\n",
    "  r1=loadImage(\"r1.gif\"); r2=loadImage(\"r2.gif\"); r3=loadImage(\"r3.gif\"); r4=loadImage(\"r4.gif\"); r=loadImage(\"r.png\");\n",
    "}"
   ]
  },
  {
   "cell_type": "markdown",
   "metadata": {},
   "source": [
    " Caso o foguete em estágio de queima de combustível,é gerada dinamicamente as imagens **r1,r2,r3,r4** demonstrando na simulação que ainda é gerado empuxo,ou seja que ainda existe combustível a ser queimado."
   ]
  },
  {
   "cell_type": "code",
   "execution_count": null,
   "metadata": {},
   "outputs": [],
   "source": [
    "void draw(){\n",
    "  //Definição do background em relação à altitude (h)\n",
    "  background(max((int)(127.2-h*0.0000255),0), max(0,max((int)(255-h*0.000034),(int)(170-h*0.000017))), max(min((int)(510-0.000051*h),255),0));\n",
    "  if(h<400) image(plat,0,(float)(400+h)); //Desenho do gramado\n",
    "  empuxo=0; //Setando empuxo do propulsor como zero\n",
    "  if(m>mc & v>0){ //Verificando condição de queima \n",
    "    empuxo = vj*dm; //Calculando empuxo como velocidade de ejeção(m/s) vezes o consumo de combustível(kg/s) em N\n",
    "    switch((millis()/10)%4){ //Desenhando de forma animada o foguete em processo de queima\n",
    "      case 0: image(r1,250,250); break;\n",
    "      case 1: image(r2,250,250); break;\n",
    "      case 2: image(r3,250,250); break;\n",
    "      case 3: image(r4,250,250); break;\n",
    "    }\n",
    " }"
   ]
  },
  {
   "cell_type": "markdown",
   "metadata": {},
   "source": [
    "Utilizando a função diferencial do foguete,a lei da gravitação universal e a resistência do ar simulamos um lançamento vertical de um foguete."
   ]
  },
  {
   "cell_type": "code",
   "execution_count": null,
   "metadata": {},
   "outputs": [],
   "source": [
    "  else image(r,250,250); //Caso finalizado o processo de queima\n",
    "  if(frameCount>100 & h<=0){ //Verifica se houve colisão brusca\n",
    "      if(v<=-100) image(boom,300,275); //Desenha explosão\n",
    "      h = 0; //Fixa o valor da altitude em contato com o solo\n",
    "  }\n",
    "  else{ //Continua em voo, realiza os cálculos\n",
    "    dt=millis()/1000F-oldt; oldt = millis()/1000F; //Encontrando e armazenando dt\n",
    "    //Multiplicador a seguir obtido com uma estimativa de coeficiente de aerodinâmica e área de secção de superfície do foguete\n",
    "    res = min((int)(5*v*v*(1-d/1000000)*den),0); //Calculando a força de resistência do ar\n",
    "    if(v<0) res = -res; //Inverte resistência caso o foguete esteja em queda\n",
    "    //Calculando a força resultande no foguete\n",
    "    if(m>mc){\n",
    "      F = (vj*dm/dt + GM*m/(d*d) + res); m += dm;\n",
    "    }\n",
    "    else F = GM*m/(d*d) + res;\n",
    "    v += F*dt/m; //Atualizando velocidade\n",
    "    d += v*dt; //Atualizando distância ao centro de massa terrestre\n",
    "    h = d-6371000; //Atualizando altitude\n",
    "    if(h>apogeu) apogeu=h; //Atualizando apogeu\n",
    "  }"
   ]
  },
  {
   "cell_type": "markdown",
   "metadata": {},
   "source": [
    "### Legenda :"
   ]
  },
  {
   "cell_type": "code",
   "execution_count": null,
   "metadata": {},
   "outputs": [],
   "source": [
    " //Finalizando desenhos\n",
    "  stroke(0); fill(255,255,255,150); rect(20,20,760,80);\n",
    "  textSize(17); fill(0); text(String.format(\"Empuxo: %.3f kN      Velocidade: %.3f km/s      Resistência: %.3f kN\",empuxo/1000, v/1000, res/1000),30,50);\n",
    "  if(h<14500) camada = \"Troposfera\"; else if(h<50000) camada = \"Estratosfera\"; else if(h<85000) camada = \"Mesosfera\"; else if(h<600000) camada = \"Termosfera\"; else if(h<10000000) camada = \"Exosfera\"; else camada = \"Espaço interestelar\";\n",
    "  text(String.format(\"Altitude: %.3f km      Camada : %s      Apogeu: %.2f km      \",h/1000, camada, apogeu/1000), 30, 80);"
   ]
  },
  {
   "cell_type": "markdown",
   "metadata": {},
   "source": [
    "### Adendo :\n",
    "#### Dados para as variaveis configuráveis"
   ]
  },
  {
   "cell_type": "markdown",
   "metadata": {},
   "source": [
    "#### **den** : Densidade da atmosfera medida em atmosferas"
   ]
  },
  {
   "cell_type": "markdown",
   "metadata": {},
   "source": [
    "* **Vênus** : 9,07969405 \n",
    "* **Marte** : 0,00592154 "
   ]
  },
  {
   "cell_type": "raw",
   "metadata": {},
   "source": [
    "* mc , m ,vj\n",
    "\n",
    "Saturno V : 2.970.000 kg (mc)\n",
    "            35100000 N (Empuxo)\n",
    "            263 seconds (vj)\n",
    "            2580 m/s (vj)\n",
    "            \n",
    "# Foguete Lunar,Missão Apollo para exploração da lua e Skylab para a construção da primeira estação espacial\n",
    "\n",
    "Foguete Sputnik : 267000 kg (mc)\n",
    "                  912000 N (Empuxo)\n",
    "                  306 s (vj)\n",
    "                  \n",
    "#Soviético,realizou o primeiro lançamento de satélite em órbita.satélite Sputnik1\n",
    "\n",
    "Vostok-k : 281375 kg (m)\n",
    "           3894250 N (Empuxo)\n",
    "           256 s (vj)\n",
    "           118 s (tempo de combustao)\n",
    "           \n",
    "#usado para lançar o Vostok 1, o primeiro vôo espacial tripulado, que fez de Yuri Gagarin o primeiro humano a voar no espaço\n"
   ]
  }
 ],
 "metadata": {
  "kernelspec": {
   "display_name": "Python 3",
   "language": "python",
   "name": "python3"
  },
  "language_info": {
   "codemirror_mode": {
    "name": "ipython",
    "version": 3
   },
   "file_extension": ".py",
   "mimetype": "text/x-python",
   "name": "python",
   "nbconvert_exporter": "python",
   "pygments_lexer": "ipython3",
   "version": "3.7.3"
  }
 },
 "nbformat": 4,
 "nbformat_minor": 2
}
