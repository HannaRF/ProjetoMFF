{
 "cells": [
  {
   "cell_type": "markdown",
   "metadata": {},
   "source": [
    "# Projeto de Modelagem de Fenômenos Físicos : UltraGravity\n",
    "### Igor Cortes Junqueira e Hanna Rodrigues Ferreira\n",
    "Ultragravity é um jogo interativo desenvolvido no ambiente Processing , dividido em Simulação e Gravity Challenge."
   ]
  },
  {
   "cell_type": "code",
   "execution_count": null,
   "metadata": {},
   "outputs": [],
   "source": [
    "G = 0.07  # gravitacão (unidade (10^9 m)^3 / (10^24 kg) (10^6 s)^2\n",
    "modo=0\n",
    "\n",
    "def setup():\n",
    "    size(800,800)\n",
    "\n",
    "def draw():\n",
    "    global modo, controle\n",
    "    if modo==0:\n",
    "        menu00()\n",
    "        controle=0\n",
    "        \n",
    "    elif modo==1:\n",
    "        menu01()\n",
    "        \n",
    "    elif modo==10:\n",
    "        simulacao()\n",
    "        \n",
    "    elif modo==20:\n",
    "        challenge()\n",
    "        \n",
    "    elif modo==2:\n",
    "        menu02()\n",
    "        \n",
    "    if modo!=0:\n",
    "        fill(52, 61, 70)\n",
    "        rect(10,10,90,40)\n",
    "        fill(255)\n",
    "        textSize(20)\n",
    "        text(\"inicio\",30,37)\n",
    "        modo = 0 if mousePressed and 10<=mouseX<=100 and 10<=mouseY<=50 else modo\n",
    "       "
   ]
  },
  {
   "cell_type": "markdown",
   "metadata": {},
   "source": [
    "* modo : lugar\n",
    "* 0 : Menu principal\n",
    "* 1 : Menu simulação\n",
    "* 10 : Simulação\n",
    "* 2 : Menu Gravity Challenge\n",
    "* 20 : Gravity Challenge"
   ]
  },
  {
   "cell_type": "markdown",
   "metadata": {},
   "source": [
    "## Menu principal:"
   ]
  },
  {
   "cell_type": "code",
   "execution_count": null,
   "metadata": {},
   "outputs": [],
   "source": [
    "def menu00():\n",
    "    global modo\n",
    "    if mousePressed and 100<=mouseX<=700:\n",
    "        modo = 1 if 425<=mouseY<=525 else (2 if 600<=mouseY<=700 else 0) \n",
    "    background(192, 197, 206)\n",
    "    fill(52, 61, 70)\n",
    "    rect(100,425,600,100)\n",
    "    rect(100,600,600,100)\n",
    "    textSize(30)\n",
    "    fill(0)\n",
    "    text(\"BEM VINDO(A) AO ULTRA GRAVITY!!!\", 140,150)\n",
    "    text(\"Escolha o uso clicando em um\",180,275)\n",
    "    text(\"dos seguintes botoes:\",240,325)\n",
    "    fill(255)\n",
    "    text(\"SIMULACAO\",315,488)\n",
    "    text(\"GRAVITY CHALLENGE\",250,662)"
   ]
  },
  {
   "cell_type": "markdown",
   "metadata": {},
   "source": [
    "## Simulação:"
   ]
  },
  {
   "cell_type": "markdown",
   "metadata": {},
   "source": [
    "O modo simulação tem por \n",
    "objetivo comparar os erros de aproximação de métodos numéricos em simular \n",
    "trajetórias gravitacionais em torno de um corpo massivo ideal,fixo no centro da tela."
   ]
  },
  {
   "cell_type": "markdown",
   "metadata": {},
   "source": [
    "* s_p1 : posição do corpo 1\n",
    "* s_v1 : velocidade do corpo 1\n",
    "* s_p2 : posição do corpo 2\n",
    "* s_v2 : velocidade do corpo 2\n",
    "* s_p3 : posição do corpo 3\n",
    "* s_v3 : velocidade do corpo 3\n",
    "* s_m0 : massa do corpo massivo fixo que é orbitado\n",
    "* s_m : massa dos corpos que orbitam\n",
    "* s_oldt : instante inicial\n",
    "* s_rastro : Booleano para mostar ou não o rastro das trajetórias\n",
    "* s_ex1 : Booleano para desenhar ou não a trajetória do Método de Euler\n",
    "* s_ex2 : Booleano para desenhar ou não a trajetória do Método do Ponto Médio\n",
    "* s_ex3 : Booleano para desenhar ou não a trajetória do Método de Range-Kutta \n",
    "* s_ex4 : Booleano para desenhar ou não a trajetória circular ideal\n",
    "* s_clique : Usado para induzir um delay entre os cliques dado que ao pressionar por tempo demais o botão a máquina considera varios cliques"
   ]
  },
  {
   "cell_type": "markdown",
   "metadata": {},
   "source": [
    "## Menu da Simulção"
   ]
  },
  {
   "cell_type": "code",
   "execution_count": null,
   "metadata": {},
   "outputs": [],
   "source": [
    "def menu01():\n",
    "    global modo, s_p1, s_v1, s_m0, s_m, s_oldt, s_p2, s_v2, s_rastro, s_clique, s_ex1, s_ex2, s_ex3, s_ex4, s_p3, s_v3\n",
    "    background(192, 197, 206)\n",
    "    fill(52, 61, 70)\n",
    "    rect(100,650,600,100)\n",
    "    textSize(30)\n",
    "    fill(0)\n",
    "    text(\"SIMULACAO\", 315,125)\n",
    "    text(\"Esta e uma simulacao gravitacional\",145,250)\n",
    "    text(\"em torno de um corpo massivo ideal.\",130,300)\n",
    "    text(\"O intuito e comparar os erros\",185,425)\n",
    "    text(\"de aproximacao no emprego dos\",160,475)\n",
    "    text(\"tres metodos utilizados.\",225,525)\n",
    "    fill(255)\n",
    "    text(\"INICIAR SIMULACAO\",255,712)\n",
    "    if mousePressed and 100<=mouseX<=700 and 650<=mouseY<=750:\n",
    "        background(79, 91, 102)\n",
    "        modo = 10\n",
    "        s_m0 = 2000000 #(unidade: 10^24 kg)\n",
    "        s_m = 6\n",
    "        s_p1 = PVector(550, 400) #(unidade: 1 pixel = 10^9 m)\n",
    "        s_p2 = PVector(550, 400)\n",
    "        s_p3 = PVector(550, 400)\n",
    "        s_v1 = PVector(0, -30) #(unidade: 10^9 m / 10^6 s)\n",
    "        s_v2 = PVector(0, -30)\n",
    "        s_v3 = PVector(0, -30)\n",
    "        s_oldt = millis()/1000.0 #instante inicial\n",
    "        s_rastro = False\n",
    "        s_clique = 50\n",
    "        s_ex1 = True\n",
    "        s_ex2 = True\n",
    "        s_ex3 = True\n",
    "        s_ex4 = False"
   ]
  },
  {
   "cell_type": "markdown",
   "metadata": {},
   "source": [
    "## A Simulação"
   ]
  },
  {
   "cell_type": "code",
   "execution_count": null,
   "metadata": {},
   "outputs": [],
   "source": [
    "def simulacao():\n",
    "    global s_oldt, s_m0, s_p1, s_v1, s_m, s_p2, s_v2, s_rastro, s_clique, s_ex1, s_ex2, s_ex3, s_ex4, s_p3, s_v3\n",
    "\n",
    "    #posicionamento do corpo central\n",
    "    p0 = PVector(400,400)\n",
    "    \n",
    "    #tempo transcorrido desde último desenho\n",
    "    t = millis()/1000.00\n",
    "    dt = (t - s_oldt)\n",
    "    s_oldt = t"
   ]
  },
  {
   "cell_type": "markdown",
   "metadata": {},
   "source": [
    "### Método de Euler\n",
    "O método de Euler, em branco,é o tipo mais básico dentre os apresentados,por se\n",
    "tratar de uma expansão da série de Taylor de primeira odem,\n",
    "consequencia disso é sua falha computacional pois devido as este rapidamente acumula erros e diverge da trajetória ideal."
   ]
  },
  {
   "cell_type": "code",
   "execution_count": null,
   "metadata": {},
   "outputs": [],
   "source": [
    "    #cálculo da força de gravitação sobre o corpo 1\n",
    "    Fg1 = PVector.sub(s_p1, p0)\n",
    "    d1 = Fg1.mag()\n",
    "    Fg1.mult(G*s_m0*s_m/(d1*d1*d1))\n",
    "    \n",
    "    #atualização da posição do corpo 1\n",
    "    dp1 = s_v1.copy()\n",
    "    dp1.mult(dt)\n",
    "    s_p1.add(dp1)\n",
    "    \n",
    "    #atualização de velocidade do corpo 1\n",
    "    a1 = PVector.mult(Fg1, -dt/s_m)\n",
    "    s_v1.add(a1)"
   ]
  },
  {
   "cell_type": "markdown",
   "metadata": {},
   "source": [
    "### Método do Ponto Médio\n",
    "O Método de Runge-Kutta de segunda ordem simplificado,conhecido\n",
    "também como Método do Ponto Médio,em amarelo, também é uma expansão da série de Taylor\n",
    "mas de ordem maior aumentando a precisão e postergando mais que o Método de Euler a divergência com a \n",
    "tragetória ideal."
   ]
  },
  {
   "cell_type": "code",
   "execution_count": null,
   "metadata": {},
   "outputs": [],
   "source": [
    "    #atualização da posição do corpo 2 para o ponto médio\n",
    "    dp2m = s_v2.copy()\n",
    "    dp2m.mult(dt/2)\n",
    "    s_p2m = s_p2.copy()\n",
    "    s_p2m.add(dp2m)\n",
    "    \n",
    "    #cálculo da força de gravitação sobre o corpo 2 para ponto medio\n",
    "    Fg2 = PVector.sub(s_p2m, p0)\n",
    "    d2 = Fg2.mag()\n",
    "    Fg2.mult(G*s_m0*s_m/(d2*d2*d2))\n",
    "    \n",
    "    #atualização da posição do corpo 2\n",
    "    dp2 = s_v2.copy()\n",
    "    dp2.mult(dt)\n",
    "    s_p2.add(dp2)\n",
    "    \n",
    "    #atualização de velocidade do corpo 2\n",
    "    a2 = PVector.mult(Fg2, -dt/s_m)\n",
    "    s_v2.add(a2)"
   ]
  },
  {
   "cell_type": "markdown",
   "metadata": {},
   "source": [
    "### Método de Range-Kutta de quarta ordem\n",
    "Consiste no método de Range-Kutta mais utilizado,conhecido também como RK4,cujo incremento é dado como:\n",
    "$\n",
    " k = \\frac{k_1 + 2k_2+ 2k_3 + k_4}{6}\n",
    "$ \n",
    "* $ k_1 = $ a inclinação no início do intervalo\n",
    "* $ k_2 = $ a inclinação no ponto médio do intervalo usando $ k_1 $\n",
    "* $ k_3 = $ a inclinação no ponto médio do intervalo usando $ k_2 $\n",
    "* $ k_4 = $ a inclinação no ponto médio do intervalo usando $ k_3 $"
   ]
  },
  {
   "cell_type": "code",
   "execution_count": null,
   "metadata": {},
   "outputs": [],
   "source": [
    "    #atualização da posição do corpo 3 pelo método de Range-Kutta\n",
    "    k1 = s_v3.copy()\n",
    "    \n",
    "    dpk2 = k1.copy()\n",
    "    dpk2.mult(dt/2)\n",
    "    pk2 = s_p3.copy()\n",
    "    pk2.add(dpk2)\n",
    "    Fgk2 = PVector.sub(pk2, p0)\n",
    "    dk2 = Fgk2.mag()\n",
    "    Fgk2.mult(G*s_m0*s_m/(dk2*dk2*dk2))\n",
    "    ak2 = PVector.mult(Fgk2, -dt/(2*s_m))\n",
    "    k2 = s_v3.copy()\n",
    "    k2.add(ak2)\n",
    "    \n",
    "    dpk3 = k2.copy()\n",
    "    dpk3.mult(dt/2)\n",
    "    pk3 = s_p3.copy()\n",
    "    pk3.add(dpk3)\n",
    "    Fgk3 = PVector.sub(pk3, p0)\n",
    "    dk3 = Fgk3.mag()\n",
    "    Fgk3.mult(G*s_m0*s_m/(dk3*dk3*dk3))\n",
    "    ak3 = PVector.mult(Fgk3, -dt/(2*s_m))\n",
    "    k3 = s_v3.copy()\n",
    "    k3.add(ak3)\n",
    "    \n",
    "    dpk4 = k3.copy()\n",
    "    dpk4.mult(dt)\n",
    "    pk4 = s_p3.copy()\n",
    "    pk4.add(dpk4)\n",
    "    Fgk4 = PVector.sub(pk4, p0)\n",
    "    dk4 = Fgk4.mag()\n",
    "    Fgk4.mult(G*s_m0*s_m/(dk4*dk4*dk4))\n",
    "    ak4 = PVector.mult(Fgk4, -dt/s_m)\n",
    "    k4 = s_v3.copy()\n",
    "    k4.add(ak4)\n",
    "    \n",
    "    k=(k1+2*k2+2*k3+k4)/6\n",
    "    \n",
    "    #atualização da posição do corpo 3\n",
    "    dp3 = k.copy()\n",
    "    dp3.mult(dt)\n",
    "    s_p3.add(dp3)\n",
    "    \n",
    "    #atualização de velocidade do corpo 3\n",
    "    s_v3.add(2*ak3)"
   ]
  },
  {
   "cell_type": "markdown",
   "metadata": {},
   "source": [
    "### Cálculando os erros\n",
    "O erro é a distancia do corpo á trajetória ideal, 150 sendo a distância do centro do corpo fixo até a trajetória ideal"
   ]
  },
  {
   "cell_type": "code",
   "execution_count": null,
   "metadata": {},
   "outputs": [],
   "source": [
    "    #cálculo do erro do corpo 1\n",
    "    e1 = p0.dist(s_p1)-150\n",
    "    \n",
    "    #cálculo do erro do corpo 2\n",
    "    e2 = p0.dist(s_p2)-150\n",
    "    \n",
    "    #cálculo do erro do corpo 3\n",
    "    e3 = p0.dist(s_p3)-150"
   ]
  },
  {
   "cell_type": "markdown",
   "metadata": {},
   "source": [
    "### As interações de rastro \n",
    "* s_rastro : Booleano para mostar ou não o rastro das trajetórias\n",
    "* s_ex1 : Booleano para desenhar ou não a trajetória do Método de Euler\n",
    "* s_ex2 : Booleano para desenhar ou não a trajetória do Método do Ponto Médio\n",
    "* s_ex3 : Booleano para desenhar ou não a trajetória do Método de Range-Kutta \n",
    "* s_ex4 : Booleano para desenhar ou não a trajetória circular ideal\n",
    "* s_clique : Usado para induzir um delay entre os cliques,dado que ao pressionar por tempo demais o botão de clique a máquina considera varios cliques"
   ]
  },
  {
   "cell_type": "code",
   "execution_count": null,
   "metadata": {},
   "outputs": [],
   "source": [
    "#interação\n",
    "    if mousePressed and s_clique >= 10:\n",
    "        if 10<=mouseX<=20 and 775<=mouseY<=785:\n",
    "            s_rastro = not(s_rastro)\n",
    "        if 600<=mouseX<=790 and 650<=mouseY<=790:\n",
    "            background(79, 91, 102)\n",
    "            if mouseY<685:\n",
    "                s_ex1 = not(s_ex1)\n",
    "            elif mouseY<720:\n",
    "                s_ex2 = not(s_ex2)\n",
    "            elif mouseY<755:\n",
    "                s_ex3 = not(s_ex3)\n",
    "            else:\n",
    "                s_ex4 = not(s_ex4)\n",
    "        s_clique = 0\n",
    "    else:\n",
    "        s_clique +=1"
   ]
  },
  {
   "cell_type": "markdown",
   "metadata": {},
   "source": [
    "### Reset\n",
    "ao apertar o reset a tela é limpa e os corpos voltam a posição inicial iniciando novamente a simulação"
   ]
  },
  {
   "cell_type": "code",
   "execution_count": null,
   "metadata": {},
   "outputs": [],
   "source": [
    "#reset\n",
    "    if mousePressed and 700<=mouseX<=790 and 10<=mouseY<=50:\n",
    "        background(79, 91, 102)\n",
    "        s_p1 = PVector(550, 400) #(unidade: 1 pixel = 10^9 m)\n",
    "        s_p2 = PVector(550, 400)\n",
    "        s_p3 = PVector(550, 400)\n",
    "        s_v1 = PVector(0, -30) #(unidade: 10^9 m / 10^6 s)\n",
    "        s_v2 = PVector(0, -30)\n",
    "        s_v3 = PVector(0, -30)\n",
    "        s_oldt = millis()/1000.0 #instante inicial"
   ]
  },
  {
   "cell_type": "markdown",
   "metadata": {},
   "source": [
    "### Desenhos"
   ]
  },
  {
   "cell_type": "code",
   "execution_count": null,
   "metadata": {},
   "outputs": [],
   "source": [
    "#rastro dos planetas\n",
    "    k = 255\n",
    "    if not(s_rastro):\n",
    "        background(79, 91, 102)\n",
    "        k = 50"
   ]
  },
  {
   "cell_type": "code",
   "execution_count": null,
   "metadata": {},
   "outputs": [],
   "source": [
    "#buraco negro\n",
    "    fill(0)\n",
    "    stroke(0)\n",
    "    ellipse(400, 400, 15, 15)\n",
    "    \n",
    "#corpo 1\n",
    "    if s_ex1:\n",
    "        fill(255)\n",
    "        stroke(255)\n",
    "        ellipse(s_p1.x, s_p1.y, 3, 3)\n",
    "    \n",
    "#corpo 2\n",
    "    if s_ex2:\n",
    "        fill(255,255,120)\n",
    "        stroke(255,255,120)\n",
    "        ellipse(s_p2.x, s_p2.y, 3, 3)\n",
    "        \n",
    "#corpo 3\n",
    "    if s_ex3:\n",
    "        fill(255,50,50)\n",
    "        stroke(255,50,50)\n",
    "        ellipse(s_p3.x, s_p3.y, 3, 3)"
   ]
  },
  {
   "cell_type": "code",
   "execution_count": null,
   "metadata": {},
   "outputs": [],
   "source": [
    "#trajetória correta\n",
    "    if s_ex4:\n",
    "        stroke(100,175,255)\n",
    "        noFill()\n",
    "        ellipse(400,400,300,300)"
   ]
  },
  {
   "cell_type": "code",
   "execution_count": null,
   "metadata": {},
   "outputs": [],
   "source": [
    "#Indicador de rastro\n",
    "    stroke(0)\n",
    "    fill(k)\n",
    "    ellipse(15,780,10,10)\n",
    "    fill(255)\n",
    "    text(\"Rastro\", 25, 787)"
   ]
  },
  {
   "cell_type": "code",
   "execution_count": null,
   "metadata": {},
   "outputs": [],
   "source": [
    "#Botão de reset\n",
    "    fill(52, 61, 70)\n",
    "    rect(700,10,90,40)\n",
    "    fill(255)\n",
    "    textSize(20)\n",
    "    text(\"reset\",720,37)"
   ]
  },
  {
   "cell_type": "code",
   "execution_count": null,
   "metadata": {},
   "outputs": [],
   "source": [
    "#erros\n",
    "    stroke(0)\n",
    "    fill(52, 61, 70)\n",
    "    rect(185,15,440,30)\n",
    "    stroke(255)\n",
    "    fill(255)\n",
    "    text(\"Erros:  1) {:02.2f}   2) {:02.2f}   3) {:.2f}\".format(abs(e1),abs(e2),abs(e3)),205,38)"
   ]
  },
  {
   "cell_type": "markdown",
   "metadata": {},
   "source": [
    "### Legenda\n",
    "Mostram as trajetórias e suas respectivas cores:\n",
    "* Método de Euler : branco\n",
    "* Método do Ponto Médio : amarelo\n",
    "* Método do Range-Kutta : vermelho\n",
    "* Trajetória circular : azul"
   ]
  },
  {
   "cell_type": "code",
   "execution_count": null,
   "metadata": {},
   "outputs": [],
   "source": [
    "#legenda\n",
    "    stroke(0)\n",
    "    fill(52, 61, 70)\n",
    "    rect(585,650,210,140)    \n",
    "    fill(255)\n",
    "    text(\"Metodo de Euler\", 610, 675)\n",
    "    fill(255,255,120)\n",
    "    text(\"Ponto Médio\", 560,710)\n",
    "    fill(255,50,50)\n",
    "    text(\"Runge-Kutta(RK4)\", 607,745)\n",
    "    fill(100,175,255)\n",
    "    text(\"Trajetoria circular\", 610, 780)\n",
    "    fill(0)\n",
    "    line(585,685,795,685)\n",
    "    line(585,720,795,720)\n",
    "    line(585,755,795,755)"
   ]
  },
  {
   "cell_type": "markdown",
   "metadata": {},
   "source": [
    "## Gravity Challenge\n",
    "* c_b : vetor posição do corpo massivo fixo que é orbitado\n",
    "* c_v : lista das velocidades dos corpos\n",
    "* c_m0 : massa do corpo massivo fixoq que é orbitado\n",
    "* c_p : lista das posições dos corpos\n",
    "* c_m : massa dos corpos lançados\n",
    "* c_cont : contador do frame anterior\n",
    "* c_oldt : tempo do instante anterior\n",
    "* c_qtd : quantidade de corpos na tela\n",
    "* c_oldc : reserva o c_cont\n",
    "* c_ponto : quantidade de pontos do Gravity Challenge\n",
    "* c_verif : variável de verificação da pontuação\n",
    "* controle : cria um delay no clique para ao se clicar no menu do Gravity Challenge não lance por engano um corpo"
   ]
  },
  {
   "cell_type": "code",
   "execution_count": null,
   "metadata": {},
   "outputs": [],
   "source": [
    "def challenge():\n",
    "    \n",
    "    global c_b, c_v, c_m0, c_p, c_m, c_cont, c_oldt, c_qtd, c_oldc, c_ponto, c_verif, controle\n",
    "    \n",
    "    background(79, 91, 102)\n",
    "    controle = controle+1 if controle<20 else controle\n",
    "    if controle==20:\n",
    "        \n",
    "        #c_verifica pontuação\n",
    "        c_verif = c_verif+1 if (c_oldc==c_qtd) else 0\n",
    "        c_ponto = max(c_qtd,c_ponto) if c_verif==500 else c_ponto \n",
    "        c_oldc = c_qtd\n",
    "        \n",
    "        #Reset\n",
    "        if mousePressed and mouseX>700 and mouseY<50:\n",
    "            c_p, c_v, c_qtd, c_ponto = [], [], 0, 0\n",
    "        \n",
    "        #Clique para acrescentar corpo\n",
    "        \n",
    "        elif mousePressed and c_cont==0:\n",
    "            oltd = millis()/1000.00\n",
    "            c_p.append(PVector(mouseX,mouseY))\n",
    "            c_v.append(PVector(mouseX,mouseY))\n",
    "            c_qtd +=1\n",
    "            c_cont=1\n",
    "        \n",
    "        #Velocidade do novo corpo  \n",
    "              \n",
    "        elif mousePressed:\n",
    "            stroke(255)\n",
    "            line(c_p[c_qtd-1].x,c_p[c_qtd-1].y,mouseX,mouseY)\n",
    "            stroke(0)\n",
    "            c_v[c_qtd-1] = PVector.sub(c_p[c_qtd-1],PVector(mouseX,mouseY))\n",
    "            c_oldt = millis()/1000.0"
   ]
  },
  {
   "cell_type": "markdown",
   "metadata": {},
   "source": [
    "Através do Método de Euler foram feitos os cálculos\n",
    ",não foi considerada a força gravitacional dos corpos sobre o corpo massivo fixo\n",
    "\n",
    "Caso certo corpo saia da tela ou entre na área relativa a posição do corpo fixo este é deletado da lista de velocidades e posições assim evitando gastos computacionais desnecessários"
   ]
  },
  {
   "cell_type": "code",
   "execution_count": null,
   "metadata": {},
   "outputs": [],
   "source": [
    " #Cálculos        \n",
    "        if not(mousePressed):\n",
    "            c_cont=0\n",
    "            \n",
    "            #tempo transcorrido desde último desenho\n",
    "            t = millis()/1000.00\n",
    "            dt = t - c_oldt\n",
    "            c_oldt = t\n",
    "            \n",
    "            #Cálculo para cada corpo   \n",
    "            for i in range(c_qtd):\n",
    "                \n",
    "                #Força gravitacional central\n",
    "                Fg = PVector.sub(c_b,c_p[i])\n",
    "                d = Fg.mag()\n",
    "                Fg.mult((G*c_m0*c_m)/(d*d*d))\n",
    "                \n",
    "                #c_verifica excedente dos limites\n",
    "                if d<15 or c_p[i].x<0 or c_p[i].x>800 or c_p[i].y<0 or c_p[i].y>800:\n",
    "                    c_p.pop(i)\n",
    "                    c_v.pop(i)\n",
    "                    c_qtd -= 1\n",
    "                    break                        \n",
    "    \n",
    "                #Força dos outros corpos sobre o calculado\n",
    "                for k in range(c_qtd):\n",
    "                    if c_p[i]!=c_p[k]:\n",
    "                        F = PVector.sub(c_p[k],c_p[i])\n",
    "                        d = F.mag()\n",
    "                        F.mult((G*c_m*c_m)/(d*d*d))\n",
    "                        Fg.add(F)\n",
    "    \n",
    "                #atualização da posição do corpo\n",
    "                dp = c_v[i].copy()\n",
    "                dp.mult(dt)\n",
    "                c_p[i].add(dp)\n",
    "                #variação de velocidade para o corpo\n",
    "                a = PVector.mult(Fg, dt/c_m)\n",
    "                c_v[i].add(a)"
   ]
  },
  {
   "cell_type": "markdown",
   "metadata": {},
   "source": [
    "### Desenhos\n",
    "o loop é utilizado para desenhar cada corpo que foi adicionado a cada novo frame "
   ]
  },
  {
   "cell_type": "code",
   "execution_count": null,
   "metadata": {},
   "outputs": [],
   "source": [
    " #Desenhos\n",
    "    fill(0)\n",
    "    textSize(20)\n",
    "    ellipse(c_b.x,c_b.y,30,30)\n",
    "    fill(0,0,100)\n",
    "    stroke(0,0,100)\n",
    "    for i in range(c_qtd):\n",
    "        ellipse(c_p[i].x,c_p[i].y,10,10)\n",
    "    stroke(0)\n",
    "    fill(52, 61, 70)\n",
    "    rect(700,10,90,40)\n",
    "    rect(200,15,400,30)\n",
    "    fill(255)\n",
    "    textSize(20)\n",
    "    text(\"reset\",720,37)\n",
    "    text(\"Corpos: {} - Pontuacao: {}\".format(c_qtd,c_ponto),270,37)"
   ]
  }
 ],
 "metadata": {
  "kernelspec": {
   "display_name": "Python 3",
   "language": "python",
   "name": "python3"
  },
  "language_info": {
   "codemirror_mode": {
    "name": "ipython",
    "version": 3
   },
   "file_extension": ".py",
   "mimetype": "text/x-python",
   "name": "python",
   "nbconvert_exporter": "python",
   "pygments_lexer": "ipython3",
   "version": "3.7.3"
  }
 },
 "nbformat": 4,
 "nbformat_minor": 4
}
